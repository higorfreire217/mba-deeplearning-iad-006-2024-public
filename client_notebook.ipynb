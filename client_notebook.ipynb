{
 "cells": [
  {
   "cell_type": "code",
   "execution_count": 5,
   "metadata": {},
   "outputs": [
    {
     "data": {
      "image/png": "[encoded data removed]",
      "text/plain": [
       "<Figure size 640x480 with 1 Axes>"
      ]
     },
     "metadata": {},
     "output_type": "display_data"
    },
    {
     "name": "stdout",
     "output_type": "stream",
     "text": [
      "Resposta da API: {'prediction': 1.0}\n"
     ]
    }
   ],
   "source": [
    "# Importar bibliotecas necessárias\n",
    "import base64\n",
    "from PIL import Image\n",
    "import requests\n",
    "import io\n",
    "import matplotlib.pyplot as plt\n",
    "\n",
    "# Carregar e redimensionar a imagem\n",
    "img_path = 'imagens/imagem_negativa.png'  # Altere para o caminho correto da imagem no seu ambiente\n",
    "img = Image.open(img_path)\n",
    "img = img.resize((8, 8))  # Redimensionar para 8x8 pixels (ajuste conforme necessário)\n",
    "\n",
    "# Exibir a imagem redimensionada\n",
    "plt.imshow(img)\n",
    "plt.axis('off')\n",
    "plt.show()\n",
    "\n",
    "# Converter a imagem para base64\n",
    "buffered = io.BytesIO()\n",
    "img.save(buffered, format=\"PNG\")\n",
    "img_str = base64.b64encode(buffered.getvalue()).decode('utf-8')\n",
    "\n",
    "# Definir a URL da API (ajuste conforme necessário)\n",
    "url = 'http://localhost:8000/predict'\n",
    "\n",
    "# Fazer a requisição para a API\n",
    "response = requests.post(url, json={'image': img_str})\n",
    "\n",
    "# Exibir a resposta da API\n",
    "print(\"Resposta da API:\", response.json())\n"
   ]
  }
 ],
 "metadata": {
  "kernelspec": {
   "display_name": ".venv",
   "language": "python",
   "name": "python3"
  },
  "language_info": {
   "codemirror_mode": {
    "name": "ipython",
    "version": 3
   },
   "file_extension": ".py",
   "mimetype": "text/x-python",
   "name": "python",
   "nbconvert_exporter": "python",
   "pygments_lexer": "ipython3",
   "version": "3.8.10"
  }
 },
 "nbformat": 4,
 "nbformat_minor": 2
}
